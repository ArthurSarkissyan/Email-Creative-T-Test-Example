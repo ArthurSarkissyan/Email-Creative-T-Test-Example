{
 "cells": [
  {
   "cell_type": "markdown",
   "id": "9767ef3e",
   "metadata": {},
   "source": [
    "# This is an example of a t-test done to analyze an A/B test of an email marketing campaign"
   ]
  },
  {
   "cell_type": "markdown",
   "id": "c70823f3",
   "metadata": {},
   "source": [
    "One of the main metrics that are used to analyze the sucess of an email marketing campaign is the click through rate (CTR), also known as the click rate.  A marketing campaign (also called promotion) can have multiple creatives.  A creative is the actual advertisement you see when you open the email.  If you click on the link within the email, it gets registered as a click, and the click through rate is calculated by the following: clicks/number of emails sent.  An email marketer's goal is to have creatives with high click through rates."
   ]
  },
  {
   "cell_type": "markdown",
   "id": "83254d3c",
   "metadata": {},
   "source": [
    "This code is a very simple demonstration of how I tested various creatives for a certain campaign.  In this code, we will use fake email data, that contains one promotion with two different creatives and their corresponding click rates."
   ]
  },
  {
   "cell_type": "markdown",
   "id": "1ca7748f",
   "metadata": {},
   "source": [
    "## Basic Data Exploration"
   ]
  },
  {
   "cell_type": "code",
   "execution_count": 1,
   "id": "a76c0c17",
   "metadata": {},
   "outputs": [],
   "source": [
    "import pandas as pd\n",
    "import matplotlib.pyplot as plt\n",
    "from scipy.stats import ttest_ind"
   ]
  },
  {
   "cell_type": "code",
   "execution_count": 2,
   "id": "98d5e772",
   "metadata": {},
   "outputs": [],
   "source": [
    "data=pd.read_csv(\"Sample Email Data - Creative Test.csv\")"
   ]
  },
  {
   "cell_type": "code",
   "execution_count": 3,
   "id": "83e0de26",
   "metadata": {},
   "outputs": [
    {
     "data": {
      "text/html": [
       "<div>\n",
       "<style scoped>\n",
       "    .dataframe tbody tr th:only-of-type {\n",
       "        vertical-align: middle;\n",
       "    }\n",
       "\n",
       "    .dataframe tbody tr th {\n",
       "        vertical-align: top;\n",
       "    }\n",
       "\n",
       "    .dataframe thead th {\n",
       "        text-align: right;\n",
       "    }\n",
       "</style>\n",
       "<table border=\"1\" class=\"dataframe\">\n",
       "  <thead>\n",
       "    <tr style=\"text-align: right;\">\n",
       "      <th></th>\n",
       "      <th>Promotion</th>\n",
       "      <th>Creative</th>\n",
       "      <th>Click Rate (%)</th>\n",
       "    </tr>\n",
       "  </thead>\n",
       "  <tbody>\n",
       "    <tr>\n",
       "      <th>0</th>\n",
       "      <td>Promotion X</td>\n",
       "      <td>Creative B</td>\n",
       "      <td>0.136</td>\n",
       "    </tr>\n",
       "    <tr>\n",
       "      <th>1</th>\n",
       "      <td>Promotion X</td>\n",
       "      <td>Creative A</td>\n",
       "      <td>0.068</td>\n",
       "    </tr>\n",
       "    <tr>\n",
       "      <th>2</th>\n",
       "      <td>Promotion X</td>\n",
       "      <td>Creative A</td>\n",
       "      <td>0.110</td>\n",
       "    </tr>\n",
       "    <tr>\n",
       "      <th>3</th>\n",
       "      <td>Promotion X</td>\n",
       "      <td>Creative B</td>\n",
       "      <td>0.169</td>\n",
       "    </tr>\n",
       "    <tr>\n",
       "      <th>4</th>\n",
       "      <td>Promotion X</td>\n",
       "      <td>Creative B</td>\n",
       "      <td>0.089</td>\n",
       "    </tr>\n",
       "  </tbody>\n",
       "</table>\n",
       "</div>"
      ],
      "text/plain": [
       "     Promotion    Creative  Click Rate (%)\n",
       "0  Promotion X  Creative B           0.136\n",
       "1  Promotion X  Creative A           0.068\n",
       "2  Promotion X  Creative A           0.110\n",
       "3  Promotion X  Creative B           0.169\n",
       "4  Promotion X  Creative B           0.089"
      ]
     },
     "execution_count": 3,
     "metadata": {},
     "output_type": "execute_result"
    }
   ],
   "source": [
    "data.head()"
   ]
  },
  {
   "cell_type": "code",
   "execution_count": 4,
   "id": "ab40b812",
   "metadata": {},
   "outputs": [
    {
     "data": {
      "text/plain": [
       "Promotion X    40\n",
       "Name: Promotion, dtype: int64"
      ]
     },
     "execution_count": 4,
     "metadata": {},
     "output_type": "execute_result"
    }
   ],
   "source": [
    "data['Promotion'].value_counts()"
   ]
  },
  {
   "cell_type": "code",
   "execution_count": 5,
   "id": "008c496b",
   "metadata": {},
   "outputs": [
    {
     "data": {
      "text/plain": [
       "Creative B    20\n",
       "Creative A    20\n",
       "Name: Creative, dtype: int64"
      ]
     },
     "execution_count": 5,
     "metadata": {},
     "output_type": "execute_result"
    }
   ],
   "source": [
    "data['Creative'].value_counts()"
   ]
  },
  {
   "cell_type": "code",
   "execution_count": 6,
   "id": "e8257fb6",
   "metadata": {},
   "outputs": [
    {
     "data": {
      "text/plain": [
       "<AxesSubplot:xlabel='Index', ylabel='Click Rate %'>"
      ]
     },
     "execution_count": 6,
     "metadata": {},
     "output_type": "execute_result"
    },
    {
     "data": {
      "image/png": "[encoded data removed]",
      "text/plain": [
       "<Figure size 432x288 with 1 Axes>"
      ]
     },
     "metadata": {
      "needs_background": "light"
     },
     "output_type": "display_data"
    }
   ],
   "source": [
    "data[\"Click Rate (%)\"].plot(xlabel='Index', ylabel='Click Rate %')"
   ]
  },
  {
   "cell_type": "markdown",
   "id": "77b80c34",
   "metadata": {},
   "source": [
    "As we can see, there is one promotion (\"Promotion X\"), and 2 creatives, with 20 sends for each creative.  The click rates range somewhere beteween approximately 0.00%-0.20%."
   ]
  },
  {
   "cell_type": "markdown",
   "id": "eaf2c20c",
   "metadata": {},
   "source": [
    "## Analysis and Test"
   ]
  },
  {
   "cell_type": "code",
   "execution_count": 7,
   "id": "1e4b9b93",
   "metadata": {},
   "outputs": [],
   "source": [
    "def creative_distribution(promotion_name):\n",
    "    promotion=data[data['Promotion']==promotion_name]\n",
    "    x=promotion.groupby(['Creative'])['Click Rate (%)'].agg(['mean','count']).sort_values(by='mean', ascending=False)\n",
    "    return x"
   ]
  },
  {
   "cell_type": "code",
   "execution_count": 8,
   "id": "6a752df9",
   "metadata": {},
   "outputs": [
    {
     "data": {
      "text/html": [
       "<div>\n",
       "<style scoped>\n",
       "    .dataframe tbody tr th:only-of-type {\n",
       "        vertical-align: middle;\n",
       "    }\n",
       "\n",
       "    .dataframe tbody tr th {\n",
       "        vertical-align: top;\n",
       "    }\n",
       "\n",
       "    .dataframe thead th {\n",
       "        text-align: right;\n",
       "    }\n",
       "</style>\n",
       "<table border=\"1\" class=\"dataframe\">\n",
       "  <thead>\n",
       "    <tr style=\"text-align: right;\">\n",
       "      <th></th>\n",
       "      <th>mean</th>\n",
       "      <th>count</th>\n",
       "    </tr>\n",
       "    <tr>\n",
       "      <th>Creative</th>\n",
       "      <th></th>\n",
       "      <th></th>\n",
       "    </tr>\n",
       "  </thead>\n",
       "  <tbody>\n",
       "    <tr>\n",
       "      <th>Creative B</th>\n",
       "      <td>0.1234</td>\n",
       "      <td>20</td>\n",
       "    </tr>\n",
       "    <tr>\n",
       "      <th>Creative A</th>\n",
       "      <td>0.0790</td>\n",
       "      <td>20</td>\n",
       "    </tr>\n",
       "  </tbody>\n",
       "</table>\n",
       "</div>"
      ],
      "text/plain": [
       "              mean  count\n",
       "Creative                 \n",
       "Creative B  0.1234     20\n",
       "Creative A  0.0790     20"
      ]
     },
     "execution_count": 8,
     "metadata": {},
     "output_type": "execute_result"
    }
   ],
   "source": [
    "creative_distribution(\"Promotion X\")"
   ]
  },
  {
   "cell_type": "markdown",
   "id": "043bc480",
   "metadata": {},
   "source": [
    "The creative_distribution() function allows us to input a promotion and see the average click rate for each creative, as well as how many times each creative was sent.  As we can see, \"Creative B\" has the highest average.  But we can't yet say that it is significantly larger than \"Creative A\", which is why we do a t-test."
   ]
  },
  {
   "cell_type": "code",
   "execution_count": 9,
   "id": "c08b0fa8",
   "metadata": {},
   "outputs": [],
   "source": [
    "def test(promotion, creative1, creative2):\n",
    "    a=data[data['Creative']==creative1]['Click Rate (%)']\n",
    "    b=data[data['Creative']==creative2]['Click Rate (%)']\n",
    "    a.plot(kind='kde',grid=False, title=promotion, color='b', label=creative1)\n",
    "    b.plot(kind='kde',grid=False, color='r', label=creative2)\n",
    "    plt.legend()\n",
    "    plt.xlabel('Click Rate %')\n",
    "    plt.show()\n",
    "\n",
    "    stat, p = ttest_ind(a,b)\n",
    "    if p>0.05:\n",
    "        print(\"SIMILAR distributions, p =\", round(p,4))\n",
    "    else:\n",
    "        print(\"DIFFERENT distributions, p =\", round(p,4))\n",
    "    \n",
    "    print(\"\\n\")\n",
    "    print(\"The mean click rate of {} is {:.4f}\".format(creative1, a.mean()))\n",
    "    print(\"The mean click rate of {} is {:.4f}\".format(creative2, b.mean()))"
   ]
  },
  {
   "cell_type": "code",
   "execution_count": 10,
   "id": "ee62fb76",
   "metadata": {},
   "outputs": [
    {
     "data": {
      "image/png": "[encoded data removed]",
      "text/plain": [
       "<Figure size 432x288 with 1 Axes>"
      ]
     },
     "metadata": {
      "needs_background": "light"
     },
     "output_type": "display_data"
    },
    {
     "name": "stdout",
     "output_type": "stream",
     "text": [
      "DIFFERENT distributions, p = 0.0003\n",
      "\n",
      "\n",
      "The mean click rate of Creative A is 0.0790\n",
      "The mean click rate of Creative B is 0.1234\n"
     ]
    }
   ],
   "source": [
    "test(\"Promotion X\", \"Creative A\", \"Creative B\")"
   ]
  },
  {
   "cell_type": "markdown",
   "id": "f2e60415",
   "metadata": {},
   "source": [
    "The test() function allows us to input a promotion and two creatives.  In this example we are looking to see if the mean click rate for \"Creative B\" is significantly larger than \"Creative A\" for our \"Promotion X\". The function returns the click rate distributions of the two creatives, the average click rate, and whether or not the difference between the means of the two distributions is significant.  As we can see here, p=0.0003, so there is a significant difference (assuming a significance level of 0.05) between the click rates generated between the two creatives.  Because the mean click rate of \"Creative B\" is greater than that of \"Creative A\" with statistical significance, we can reasonably adjust our sending to send more campaigns with \"Creative B\" to achieve high higher click rates."
   ]
  }
 ],
 "metadata": {
  "kernelspec": {
   "display_name": "Python 3 (ipykernel)",
   "language": "python",
   "name": "python3"
  },
  "language_info": {
   "codemirror_mode": {
    "name": "ipython",
    "version": 3
   },
   "file_extension": ".py",
   "mimetype": "text/x-python",
   "name": "python",
   "nbconvert_exporter": "python",
   "pygments_lexer": "ipython3",
   "version": "3.9.7"
  }
 },
 "nbformat": 4,
 "nbformat_minor": 5
}
